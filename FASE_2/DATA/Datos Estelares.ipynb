{
 "cells": [
  {
   "cell_type": "markdown",
   "metadata": {},
   "source": [
    "## Análisis Preliminar de Datos"
   ]
  },
  {
   "cell_type": "markdown",
   "metadata": {},
   "source": [
    "A continuación se analizan los datos, previo a etapas que involucran técnicas de predicción."
   ]
  },
  {
   "cell_type": "markdown",
   "metadata": {},
   "source": [
    "Primeramente se importan las librerias necesarias:"
   ]
  },
  {
   "cell_type": "code",
   "execution_count": 40,
   "metadata": {},
   "outputs": [],
   "source": [
    "import numpy as np\n",
    "import pandas as pd\n",
    "\n",
    "pd.set_option('display.max_columns', None) # para ver todas las columnas"
   ]
  },
  {
   "cell_type": "markdown",
   "metadata": {},
   "source": [
    "Luego se lee el archivo **.csv** con los datos enteros:"
   ]
  },
  {
   "cell_type": "code",
   "execution_count": 22,
   "metadata": {},
   "outputs": [],
   "source": [
    "stars = pd.read_csv(\"stellar.csv\")"
   ]
  },
  {
   "cell_type": "markdown",
   "metadata": {},
   "source": [
    "Se muestran los primeros 5 valores:"
   ]
  },
  {
   "cell_type": "code",
   "execution_count": 3,
   "metadata": {},
   "outputs": [
    {
     "data": {
      "text/html": [
       "<div>\n",
       "<style scoped>\n",
       "    .dataframe tbody tr th:only-of-type {\n",
       "        vertical-align: middle;\n",
       "    }\n",
       "\n",
       "    .dataframe tbody tr th {\n",
       "        vertical-align: top;\n",
       "    }\n",
       "\n",
       "    .dataframe thead th {\n",
       "        text-align: right;\n",
       "    }\n",
       "</style>\n",
       "<table border=\"1\" class=\"dataframe\">\n",
       "  <thead>\n",
       "    <tr style=\"text-align: right;\">\n",
       "      <th></th>\n",
       "      <th>Seq</th>\n",
       "      <th>SIMBAD_ID</th>\n",
       "      <th>M</th>\n",
       "      <th>eM1</th>\n",
       "      <th>eM2</th>\n",
       "      <th>R</th>\n",
       "      <th>eR1</th>\n",
       "      <th>eR2</th>\n",
       "      <th>Teff</th>\n",
       "      <th>eTeff1</th>\n",
       "      <th>eTeff2</th>\n",
       "      <th>L</th>\n",
       "      <th>eL1</th>\n",
       "      <th>eL2</th>\n",
       "      <th>Meta</th>\n",
       "      <th>eMeta1</th>\n",
       "      <th>eMeta2</th>\n",
       "      <th>logg</th>\n",
       "      <th>elogg1</th>\n",
       "      <th>elogg2</th>\n",
       "      <th>rho</th>\n",
       "      <th>erho1</th>\n",
       "      <th>erho2</th>\n",
       "      <th>cutoff</th>\n",
       "      <th>class</th>\n",
       "      <th>type</th>\n",
       "      <th>pla</th>\n",
       "      <th>catalog</th>\n",
       "      <th>e_M</th>\n",
       "      <th>e_R</th>\n",
       "      <th>e_Teff</th>\n",
       "      <th>e_L</th>\n",
       "      <th>mode</th>\n",
       "    </tr>\n",
       "  </thead>\n",
       "  <tbody>\n",
       "    <tr>\n",
       "      <th>0</th>\n",
       "      <td>1</td>\n",
       "      <td>47_Tuc-V69 A</td>\n",
       "      <td>0.876</td>\n",
       "      <td>0.005</td>\n",
       "      <td>0.005</td>\n",
       "      <td>1.316</td>\n",
       "      <td>0.005</td>\n",
       "      <td>0.005</td>\n",
       "      <td>5945</td>\n",
       "      <td>150</td>\n",
       "      <td>150</td>\n",
       "      <td>1.941</td>\n",
       "      <td>0.217</td>\n",
       "      <td>0.217</td>\n",
       "      <td>-0.71</td>\n",
       "      <td>0.10</td>\n",
       "      <td>0.10</td>\n",
       "      <td>4.143</td>\n",
       "      <td>0.003</td>\n",
       "      <td>0.003</td>\n",
       "      <td>NaN</td>\n",
       "      <td>NaN</td>\n",
       "      <td>NaN</td>\n",
       "      <td>3.897169</td>\n",
       "      <td>MS</td>\n",
       "      <td>G</td>\n",
       "      <td>NaN</td>\n",
       "      <td>eker14</td>\n",
       "      <td>0.570776</td>\n",
       "      <td>0.379939</td>\n",
       "      <td>2.523129</td>\n",
       "      <td>11.179804</td>\n",
       "      <td>EB</td>\n",
       "    </tr>\n",
       "    <tr>\n",
       "      <th>1</th>\n",
       "      <td>2</td>\n",
       "      <td>47_Tuc-V69 B</td>\n",
       "      <td>0.859</td>\n",
       "      <td>0.006</td>\n",
       "      <td>0.006</td>\n",
       "      <td>1.163</td>\n",
       "      <td>0.006</td>\n",
       "      <td>0.006</td>\n",
       "      <td>5959</td>\n",
       "      <td>150</td>\n",
       "      <td>150</td>\n",
       "      <td>1.531</td>\n",
       "      <td>0.171</td>\n",
       "      <td>0.171</td>\n",
       "      <td>-0.71</td>\n",
       "      <td>0.10</td>\n",
       "      <td>0.10</td>\n",
       "      <td>4.242</td>\n",
       "      <td>0.003</td>\n",
       "      <td>0.003</td>\n",
       "      <td>NaN</td>\n",
       "      <td>NaN</td>\n",
       "      <td>NaN</td>\n",
       "      <td>3.887992</td>\n",
       "      <td>MS</td>\n",
       "      <td>G</td>\n",
       "      <td>NaN</td>\n",
       "      <td>eker14</td>\n",
       "      <td>0.698487</td>\n",
       "      <td>0.515907</td>\n",
       "      <td>2.517201</td>\n",
       "      <td>11.169170</td>\n",
       "      <td>EB</td>\n",
       "    </tr>\n",
       "    <tr>\n",
       "      <th>2</th>\n",
       "      <td>3</td>\n",
       "      <td>AD_Boo A</td>\n",
       "      <td>1.414</td>\n",
       "      <td>0.009</td>\n",
       "      <td>0.009</td>\n",
       "      <td>1.614</td>\n",
       "      <td>0.014</td>\n",
       "      <td>0.014</td>\n",
       "      <td>6575</td>\n",
       "      <td>120</td>\n",
       "      <td>120</td>\n",
       "      <td>4.375</td>\n",
       "      <td>0.356</td>\n",
       "      <td>0.356</td>\n",
       "      <td>0.10</td>\n",
       "      <td>0.15</td>\n",
       "      <td>0.15</td>\n",
       "      <td>4.173</td>\n",
       "      <td>0.008</td>\n",
       "      <td>0.008</td>\n",
       "      <td>NaN</td>\n",
       "      <td>NaN</td>\n",
       "      <td>NaN</td>\n",
       "      <td>3.484204</td>\n",
       "      <td>MS</td>\n",
       "      <td>F</td>\n",
       "      <td>NaN</td>\n",
       "      <td>eker14</td>\n",
       "      <td>0.636492</td>\n",
       "      <td>0.867410</td>\n",
       "      <td>1.825095</td>\n",
       "      <td>8.137143</td>\n",
       "      <td>EB</td>\n",
       "    </tr>\n",
       "    <tr>\n",
       "      <th>3</th>\n",
       "      <td>4</td>\n",
       "      <td>AD_Boo B</td>\n",
       "      <td>1.209</td>\n",
       "      <td>0.006</td>\n",
       "      <td>0.006</td>\n",
       "      <td>1.218</td>\n",
       "      <td>0.010</td>\n",
       "      <td>0.010</td>\n",
       "      <td>6145</td>\n",
       "      <td>120</td>\n",
       "      <td>120</td>\n",
       "      <td>1.901</td>\n",
       "      <td>0.164</td>\n",
       "      <td>0.164</td>\n",
       "      <td>0.10</td>\n",
       "      <td>0.15</td>\n",
       "      <td>0.15</td>\n",
       "      <td>4.351</td>\n",
       "      <td>0.007</td>\n",
       "      <td>0.007</td>\n",
       "      <td>NaN</td>\n",
       "      <td>NaN</td>\n",
       "      <td>NaN</td>\n",
       "      <td>3.766069</td>\n",
       "      <td>MS</td>\n",
       "      <td>F</td>\n",
       "      <td>NaN</td>\n",
       "      <td>eker14</td>\n",
       "      <td>0.496278</td>\n",
       "      <td>0.821018</td>\n",
       "      <td>1.952807</td>\n",
       "      <td>8.627038</td>\n",
       "      <td>EB</td>\n",
       "    </tr>\n",
       "    <tr>\n",
       "      <th>4</th>\n",
       "      <td>5</td>\n",
       "      <td>AG_Ari A</td>\n",
       "      <td>2.164</td>\n",
       "      <td>0.070</td>\n",
       "      <td>0.070</td>\n",
       "      <td>2.232</td>\n",
       "      <td>0.023</td>\n",
       "      <td>0.023</td>\n",
       "      <td>10300</td>\n",
       "      <td>250</td>\n",
       "      <td>250</td>\n",
       "      <td>50.350</td>\n",
       "      <td>5.497</td>\n",
       "      <td>5.497</td>\n",
       "      <td>NaN</td>\n",
       "      <td>NaN</td>\n",
       "      <td>NaN</td>\n",
       "      <td>4.075</td>\n",
       "      <td>0.023</td>\n",
       "      <td>0.023</td>\n",
       "      <td>NaN</td>\n",
       "      <td>NaN</td>\n",
       "      <td>NaN</td>\n",
       "      <td>1.042466</td>\n",
       "      <td>MS</td>\n",
       "      <td>B</td>\n",
       "      <td>NaN</td>\n",
       "      <td>eker14</td>\n",
       "      <td>3.234750</td>\n",
       "      <td>1.030466</td>\n",
       "      <td>2.427184</td>\n",
       "      <td>10.917577</td>\n",
       "      <td>EB</td>\n",
       "    </tr>\n",
       "  </tbody>\n",
       "</table>\n",
       "</div>"
      ],
      "text/plain": [
       "   Seq     SIMBAD_ID      M    eM1    eM2      R    eR1    eR2   Teff  eTeff1  \\\n",
       "0    1  47_Tuc-V69 A  0.876  0.005  0.005  1.316  0.005  0.005   5945     150   \n",
       "1    2  47_Tuc-V69 B  0.859  0.006  0.006  1.163  0.006  0.006   5959     150   \n",
       "2    3      AD_Boo A  1.414  0.009  0.009  1.614  0.014  0.014   6575     120   \n",
       "3    4      AD_Boo B  1.209  0.006  0.006  1.218  0.010  0.010   6145     120   \n",
       "4    5      AG_Ari A  2.164  0.070  0.070  2.232  0.023  0.023  10300     250   \n",
       "\n",
       "   eTeff2       L    eL1    eL2  Meta  eMeta1  eMeta2   logg  elogg1  elogg2  \\\n",
       "0     150   1.941  0.217  0.217 -0.71    0.10    0.10  4.143   0.003   0.003   \n",
       "1     150   1.531  0.171  0.171 -0.71    0.10    0.10  4.242   0.003   0.003   \n",
       "2     120   4.375  0.356  0.356  0.10    0.15    0.15  4.173   0.008   0.008   \n",
       "3     120   1.901  0.164  0.164  0.10    0.15    0.15  4.351   0.007   0.007   \n",
       "4     250  50.350  5.497  5.497   NaN     NaN     NaN  4.075   0.023   0.023   \n",
       "\n",
       "   rho  erho1  erho2    cutoff class type  pla catalog       e_M       e_R  \\\n",
       "0  NaN    NaN    NaN  3.897169    MS    G  NaN  eker14  0.570776  0.379939   \n",
       "1  NaN    NaN    NaN  3.887992    MS    G  NaN  eker14  0.698487  0.515907   \n",
       "2  NaN    NaN    NaN  3.484204    MS    F  NaN  eker14  0.636492  0.867410   \n",
       "3  NaN    NaN    NaN  3.766069    MS    F  NaN  eker14  0.496278  0.821018   \n",
       "4  NaN    NaN    NaN  1.042466    MS    B  NaN  eker14  3.234750  1.030466   \n",
       "\n",
       "     e_Teff        e_L mode  \n",
       "0  2.523129  11.179804   EB  \n",
       "1  2.517201  11.169170   EB  \n",
       "2  1.825095   8.137143   EB  \n",
       "3  1.952807   8.627038   EB  \n",
       "4  2.427184  10.917577   EB  "
      ]
     },
     "execution_count": 3,
     "metadata": {},
     "output_type": "execute_result"
    }
   ],
   "source": [
    "stars.head()"
   ]
  },
  {
   "cell_type": "markdown",
   "metadata": {},
   "source": [
    "Se escogen los valores de las columnas relevantes y se ajusta el dataframe (estructura de dato usada en *PANDAS*):"
   ]
  },
  {
   "cell_type": "code",
   "execution_count": 4,
   "metadata": {},
   "outputs": [],
   "source": [
    "cols = ['M','eM1','eM2','R','eR1','eR2','Teff','eTeff1', 'eTeff2','L','eL1','eL2','Meta','eMeta1', 'eMeta2', 'logg', 'elogg1', 'elogg2', 'rho', 'erho1', 'erho2']"
   ]
  },
  {
   "cell_type": "code",
   "execution_count": 5,
   "metadata": {},
   "outputs": [],
   "source": [
    "stars = stars[cols]"
   ]
  },
  {
   "cell_type": "code",
   "execution_count": 17,
   "metadata": {},
   "outputs": [
    {
     "data": {
      "text/html": [
       "<div>\n",
       "<style scoped>\n",
       "    .dataframe tbody tr th:only-of-type {\n",
       "        vertical-align: middle;\n",
       "    }\n",
       "\n",
       "    .dataframe tbody tr th {\n",
       "        vertical-align: top;\n",
       "    }\n",
       "\n",
       "    .dataframe thead th {\n",
       "        text-align: right;\n",
       "    }\n",
       "</style>\n",
       "<table border=\"1\" class=\"dataframe\">\n",
       "  <thead>\n",
       "    <tr style=\"text-align: right;\">\n",
       "      <th></th>\n",
       "      <th>M</th>\n",
       "      <th>eM1</th>\n",
       "      <th>eM2</th>\n",
       "      <th>R</th>\n",
       "      <th>eR1</th>\n",
       "      <th>eR2</th>\n",
       "      <th>Teff</th>\n",
       "      <th>eTeff1</th>\n",
       "      <th>eTeff2</th>\n",
       "      <th>L</th>\n",
       "      <th>eL1</th>\n",
       "      <th>eL2</th>\n",
       "      <th>Meta</th>\n",
       "      <th>eMeta1</th>\n",
       "      <th>eMeta2</th>\n",
       "      <th>logg</th>\n",
       "      <th>elogg1</th>\n",
       "      <th>elogg2</th>\n",
       "      <th>rho</th>\n",
       "      <th>erho1</th>\n",
       "      <th>erho2</th>\n",
       "    </tr>\n",
       "  </thead>\n",
       "  <tbody>\n",
       "    <tr>\n",
       "      <th>0</th>\n",
       "      <td>0.876</td>\n",
       "      <td>0.005</td>\n",
       "      <td>0.005</td>\n",
       "      <td>1.316</td>\n",
       "      <td>0.005</td>\n",
       "      <td>0.005</td>\n",
       "      <td>5945</td>\n",
       "      <td>150</td>\n",
       "      <td>150</td>\n",
       "      <td>1.941</td>\n",
       "      <td>0.217</td>\n",
       "      <td>0.217</td>\n",
       "      <td>-0.71</td>\n",
       "      <td>0.10</td>\n",
       "      <td>0.10</td>\n",
       "      <td>4.143</td>\n",
       "      <td>0.003</td>\n",
       "      <td>0.003</td>\n",
       "      <td>NaN</td>\n",
       "      <td>NaN</td>\n",
       "      <td>NaN</td>\n",
       "    </tr>\n",
       "    <tr>\n",
       "      <th>1</th>\n",
       "      <td>0.859</td>\n",
       "      <td>0.006</td>\n",
       "      <td>0.006</td>\n",
       "      <td>1.163</td>\n",
       "      <td>0.006</td>\n",
       "      <td>0.006</td>\n",
       "      <td>5959</td>\n",
       "      <td>150</td>\n",
       "      <td>150</td>\n",
       "      <td>1.531</td>\n",
       "      <td>0.171</td>\n",
       "      <td>0.171</td>\n",
       "      <td>-0.71</td>\n",
       "      <td>0.10</td>\n",
       "      <td>0.10</td>\n",
       "      <td>4.242</td>\n",
       "      <td>0.003</td>\n",
       "      <td>0.003</td>\n",
       "      <td>NaN</td>\n",
       "      <td>NaN</td>\n",
       "      <td>NaN</td>\n",
       "    </tr>\n",
       "    <tr>\n",
       "      <th>2</th>\n",
       "      <td>1.414</td>\n",
       "      <td>0.009</td>\n",
       "      <td>0.009</td>\n",
       "      <td>1.614</td>\n",
       "      <td>0.014</td>\n",
       "      <td>0.014</td>\n",
       "      <td>6575</td>\n",
       "      <td>120</td>\n",
       "      <td>120</td>\n",
       "      <td>4.375</td>\n",
       "      <td>0.356</td>\n",
       "      <td>0.356</td>\n",
       "      <td>0.10</td>\n",
       "      <td>0.15</td>\n",
       "      <td>0.15</td>\n",
       "      <td>4.173</td>\n",
       "      <td>0.008</td>\n",
       "      <td>0.008</td>\n",
       "      <td>NaN</td>\n",
       "      <td>NaN</td>\n",
       "      <td>NaN</td>\n",
       "    </tr>\n",
       "    <tr>\n",
       "      <th>3</th>\n",
       "      <td>1.209</td>\n",
       "      <td>0.006</td>\n",
       "      <td>0.006</td>\n",
       "      <td>1.218</td>\n",
       "      <td>0.010</td>\n",
       "      <td>0.010</td>\n",
       "      <td>6145</td>\n",
       "      <td>120</td>\n",
       "      <td>120</td>\n",
       "      <td>1.901</td>\n",
       "      <td>0.164</td>\n",
       "      <td>0.164</td>\n",
       "      <td>0.10</td>\n",
       "      <td>0.15</td>\n",
       "      <td>0.15</td>\n",
       "      <td>4.351</td>\n",
       "      <td>0.007</td>\n",
       "      <td>0.007</td>\n",
       "      <td>NaN</td>\n",
       "      <td>NaN</td>\n",
       "      <td>NaN</td>\n",
       "    </tr>\n",
       "    <tr>\n",
       "      <th>4</th>\n",
       "      <td>2.164</td>\n",
       "      <td>0.070</td>\n",
       "      <td>0.070</td>\n",
       "      <td>2.232</td>\n",
       "      <td>0.023</td>\n",
       "      <td>0.023</td>\n",
       "      <td>10300</td>\n",
       "      <td>250</td>\n",
       "      <td>250</td>\n",
       "      <td>50.350</td>\n",
       "      <td>5.497</td>\n",
       "      <td>5.497</td>\n",
       "      <td>NaN</td>\n",
       "      <td>NaN</td>\n",
       "      <td>NaN</td>\n",
       "      <td>4.075</td>\n",
       "      <td>0.023</td>\n",
       "      <td>0.023</td>\n",
       "      <td>NaN</td>\n",
       "      <td>NaN</td>\n",
       "      <td>NaN</td>\n",
       "    </tr>\n",
       "  </tbody>\n",
       "</table>\n",
       "</div>"
      ],
      "text/plain": [
       "       M    eM1    eM2      R    eR1    eR2   Teff  eTeff1  eTeff2       L  \\\n",
       "0  0.876  0.005  0.005  1.316  0.005  0.005   5945     150     150   1.941   \n",
       "1  0.859  0.006  0.006  1.163  0.006  0.006   5959     150     150   1.531   \n",
       "2  1.414  0.009  0.009  1.614  0.014  0.014   6575     120     120   4.375   \n",
       "3  1.209  0.006  0.006  1.218  0.010  0.010   6145     120     120   1.901   \n",
       "4  2.164  0.070  0.070  2.232  0.023  0.023  10300     250     250  50.350   \n",
       "\n",
       "     eL1    eL2  Meta  eMeta1  eMeta2   logg  elogg1  elogg2  rho  erho1  \\\n",
       "0  0.217  0.217 -0.71    0.10    0.10  4.143   0.003   0.003  NaN    NaN   \n",
       "1  0.171  0.171 -0.71    0.10    0.10  4.242   0.003   0.003  NaN    NaN   \n",
       "2  0.356  0.356  0.10    0.15    0.15  4.173   0.008   0.008  NaN    NaN   \n",
       "3  0.164  0.164  0.10    0.15    0.15  4.351   0.007   0.007  NaN    NaN   \n",
       "4  5.497  5.497   NaN     NaN     NaN  4.075   0.023   0.023  NaN    NaN   \n",
       "\n",
       "   erho2  \n",
       "0    NaN  \n",
       "1    NaN  \n",
       "2    NaN  \n",
       "3    NaN  \n",
       "4    NaN  "
      ]
     },
     "execution_count": 17,
     "metadata": {},
     "output_type": "execute_result"
    }
   ],
   "source": [
    "stars.head()"
   ]
  },
  {
   "cell_type": "code",
   "execution_count": 25,
   "metadata": {},
   "outputs": [
    {
     "data": {
      "text/plain": [
       "(934, 21)"
      ]
     },
     "execution_count": 25,
     "metadata": {},
     "output_type": "execute_result"
    }
   ],
   "source": [
    "stars.shape"
   ]
  },
  {
   "cell_type": "markdown",
   "metadata": {},
   "source": [
    "Se cuentan los valores NaN, se indica en que columna se encuentran, finalmente se genera una curva para vizualización:"
   ]
  },
  {
   "cell_type": "code",
   "execution_count": 18,
   "metadata": {},
   "outputs": [],
   "source": [
    "nulls = stars.isnull().sum(axis = 0)"
   ]
  },
  {
   "cell_type": "code",
   "execution_count": 19,
   "metadata": {},
   "outputs": [
    {
     "data": {
      "text/plain": [
       "M           0\n",
       "eM1         0\n",
       "eM2         0\n",
       "R           0\n",
       "eR1         0\n",
       "eR2         0\n",
       "Teff        0\n",
       "eTeff1      0\n",
       "eTeff2      0\n",
       "L          17\n",
       "eL1        17\n",
       "eL2        17\n",
       "Meta      216\n",
       "eMeta1    216\n",
       "eMeta2    216\n",
       "logg       94\n",
       "elogg1     94\n",
       "elogg2     94\n",
       "rho       304\n",
       "erho1     304\n",
       "erho2     304\n",
       "dtype: int64"
      ]
     },
     "execution_count": 19,
     "metadata": {},
     "output_type": "execute_result"
    }
   ],
   "source": [
    "nulls"
   ]
  },
  {
   "cell_type": "code",
   "execution_count": 13,
   "metadata": {},
   "outputs": [
    {
     "data": {
      "text/plain": [
       "<matplotlib.axes._subplots.AxesSubplot at 0x11dd2b2b0>"
      ]
     },
     "execution_count": 13,
     "metadata": {},
     "output_type": "execute_result"
    },
    {
     "data": {
      "image/png": "[encoded data removed]",
      "text/plain": [
       "<Figure size 432x288 with 1 Axes>"
      ]
     },
     "metadata": {
      "needs_background": "light"
     },
     "output_type": "display_data"
    }
   ],
   "source": [
    "nulls.plot(kind='bar')"
   ]
  },
  {
   "cell_type": "code",
   "execution_count": 37,
   "metadata": {},
   "outputs": [
    {
     "name": "stdout",
     "output_type": "stream",
     "text": [
      "El porcentaje de NaNs en L es: 1.82 %\n",
      "El porcentaje de NaNs en Meta es: 23.13 %\n",
      "El porcentaje de NaNs en logg es: 10.06 %\n",
      "El porcentaje de NaNs en rho es: 32.55 %\n"
     ]
    }
   ],
   "source": [
    "print('El porcentaje de NaNs en L es:', round(17*100/934,2), '%')\n",
    "print('El porcentaje de NaNs en Meta es:', round(216*100/934,2), '%')\n",
    "print('El porcentaje de NaNs en logg es:', round(94*100/934,2), '%')\n",
    "print('El porcentaje de NaNs en rho es:', round(304*100/934,2), '%')"
   ]
  },
  {
   "cell_type": "markdown",
   "metadata": {},
   "source": [
    "Se cuentan los valores NEGATIVOS, se indica en que columna se encuentran, finalmente se genera una curva para vizualización:"
   ]
  },
  {
   "cell_type": "code",
   "execution_count": 22,
   "metadata": {},
   "outputs": [],
   "source": [
    "negs = stars.where(stars < 0).count()"
   ]
  },
  {
   "cell_type": "code",
   "execution_count": 26,
   "metadata": {
    "scrolled": true
   },
   "outputs": [
    {
     "data": {
      "text/plain": [
       "M           0\n",
       "eM1         0\n",
       "eM2         0\n",
       "R           0\n",
       "eR1         0\n",
       "eR2         0\n",
       "Teff        0\n",
       "eTeff1      0\n",
       "eTeff2      0\n",
       "L           0\n",
       "eL1         0\n",
       "eL2         0\n",
       "Meta      403\n",
       "eMeta1      0\n",
       "eMeta2      0\n",
       "logg        0\n",
       "elogg1      0\n",
       "elogg2      0\n",
       "rho         0\n",
       "erho1       0\n",
       "erho2       0\n",
       "dtype: int64"
      ]
     },
     "execution_count": 26,
     "metadata": {},
     "output_type": "execute_result"
    }
   ],
   "source": [
    "negs"
   ]
  },
  {
   "cell_type": "code",
   "execution_count": 24,
   "metadata": {},
   "outputs": [
    {
     "data": {
      "text/plain": [
       "<matplotlib.axes._subplots.AxesSubplot at 0x11ddb9208>"
      ]
     },
     "execution_count": 24,
     "metadata": {},
     "output_type": "execute_result"
    },
    {
     "data": {
      "image/png": "[encoded data removed]",
      "text/plain": [
       "<Figure size 432x288 with 1 Axes>"
      ]
     },
     "metadata": {
      "needs_background": "light"
     },
     "output_type": "display_data"
    }
   ],
   "source": [
    "negs.plot(kind='bar')"
   ]
  },
  {
   "cell_type": "code",
   "execution_count": 1,
   "metadata": {},
   "outputs": [
    {
     "name": "stdout",
     "output_type": "stream",
     "text": [
      "El porcentaje de negativos en Meta es: 43.15 %\n"
     ]
    }
   ],
   "source": [
    "print('El porcentaje de negativos en Meta es:', round(403*100/934,2), '%')"
   ]
  },
  {
   "cell_type": "code",
   "execution_count": 2,
   "metadata": {},
   "outputs": [],
   "source": [
    "# se promedian los errores en una sola columna\n"
   ]
  },
  {
   "cell_type": "code",
   "execution_count": 37,
   "metadata": {},
   "outputs": [],
   "source": [
    "# se deben contar las que son class == MS \n",
    "\n"
   ]
  },
  {
   "cell_type": "code",
   "execution_count": 39,
   "metadata": {},
   "outputs": [],
   "source": [
    "# crear un dataframe con los datos que correspondes solo a la class == MS\n",
    "\n"
   ]
  },
  {
   "cell_type": "markdown",
   "metadata": {},
   "source": [
    "Debemos hacer varias bases de datos, debido a que tenemos que asumir criterios par el manejo de los valores faltantes, sugiero 3 datasets, solo usando los class==MS:\n",
    "\n",
    "- El primero (DS1) seria con solo los datos que no tengan valores faltantes, esto es hacer drop de cualquier dato que tenga en alguna de sus features un NaN. \n",
    "- El segundo (DS2) seria mantener los que tengan valores faltantes, y reemplazar los NaN con la media del feature correspondiente.\n",
    "- El tercero (DS3), seria igual que el segundo, pero exluyendo el feature \"rho\"."
   ]
  },
  {
   "cell_type": "code",
   "execution_count": null,
   "metadata": {},
   "outputs": [],
   "source": []
  }
 ],
 "metadata": {
  "kernelspec": {
   "display_name": "Python 3",
   "language": "python",
   "name": "python3"
  },
  "language_info": {
   "codemirror_mode": {
    "name": "ipython",
    "version": 3
   },
   "file_extension": ".py",
   "mimetype": "text/x-python",
   "name": "python",
   "nbconvert_exporter": "python",
   "pygments_lexer": "ipython3",
   "version": "3.8.3"
  }
 },
 "nbformat": 4,
 "nbformat_minor": 4
}
