{
 "cells": [
  {
   "cell_type": "markdown",
   "metadata": {},
   "source": [
    "## Ejemplo libro seccion 10.1"
   ]
  },
  {
   "cell_type": "markdown",
   "metadata": {},
   "source": [
    "En el siguiente ejemplo se muestra como se relaciona la masa de un hoyo negro y la velocidad de dispersion de las estrellas en sus abultamiento.\n",
    "\n",
    "Usualmente esta es la relación de la dispersión y la masa. En nuestro caso tenemos varias variables que representan distintas masas de distintos soles y su disperción asociada.\n",
    "\n",
    "<img src=\"img\\ss2.png\" alt=\"Teorema de Bayes\" class=\"center\" width=\"250\" height=\"300\" >"
   ]
  },
  {
   "cell_type": "code",
   "execution_count": 1,
   "metadata": {},
   "outputs": [],
   "source": [
    "#Se importan las librerias necesarias\n",
    "import numpy as np\n",
    "import pandas as pd\n",
    "import pystan\n"
   ]
  },
  {
   "cell_type": "code",
   "execution_count": 3,
   "metadata": {},
   "outputs": [],
   "source": [
    "#Se importa el set de datos\n",
    "data_frame = dict(pd.read_csv(\"M_sigma.csv\"))\n"
   ]
  },
  {
   "cell_type": "code",
   "execution_count": 4,
   "metadata": {},
   "outputs": [],
   "source": [
    "#Se preparan los datos para el modelo de Stan\n",
    "data = {}\n",
    "data['obsx'] = np.array(data_frame['obsx'])\n",
    "data['errx'] = np.array(data_frame['errx']) \n",
    "data['obsy'] = np.array(data_frame['obsy']) \n",
    "data['erry'] = np.array(data_frame['erry']) \n",
    "data['N'] = len(data['obsx'])\n"
   ]
  },
  {
   "cell_type": "code",
   "execution_count": null,
   "metadata": {},
   "outputs": [],
   "source": []
  },
  {
   "cell_type": "markdown",
   "metadata": {},
   "source": [
    "<img src=\"img\\ss1.png\" alt=\"Teorema de Bayes\" class=\"center\" width=\"250\" height=\"300\" >"
   ]
  },
  {
   "cell_type": "code",
   "execution_count": 14,
   "metadata": {},
   "outputs": [],
   "source": [
    "# Stan Gaussian model \n",
    "stan_code=\"\"\" \n",
    "data{ \n",
    "    int<lower=0> N;             # number of data points \n",
    "    vector[N] obsx;             # obs velocity dispersion \n",
    "    vector<lower=0>[N] errx;    # errors in velocity dispersion measurements \n",
    "    vector[N] obsy;             # obs black hole mass \n",
    "    vector<lower=0>[N] erry;    # errors in black hole mass measurements \n",
    "} \n",
    "parameters{ \n",
    "    real alpha;                 # intercept \n",
    "    real beta;                  # angular coefficient \n",
    "    real<lower=0> epsilon;      # scatter around true black hole mass \n",
    "    vector[N] x;                # true velocity dispersion \n",
    "    vector[N] y;                # true black hole mass \n",
    "} \n",
    "  model{ \n",
    "    # likelihood and priors \n",
    "    alpha ~ normal(0, 1000); \n",
    "    beta ~ normal(0, 1000); \n",
    "    epsilon ~ gamma(0.001, 0.001); \n",
    "       for (i in 1:N){ \n",
    "        x[i] ~ normal(0, 1000); \n",
    "        y[i] ~ normal(0, 1000); \n",
    "    } \n",
    "      obsx ~ normal(x, errx); \n",
    "    y ~ normal(alpha + beta * x, epsilon); \n",
    "    obsy ~ normal(y, erry); \n",
    "} \n",
    "\"\"\""
   ]
  },
  {
   "cell_type": "code",
   "execution_count": 15,
   "metadata": {},
   "outputs": [
    {
     "name": "stderr",
     "output_type": "stream",
     "text": [
      "WARNING:pystan:DeprecationWarning: pystan.stan was deprecated in version 2.17 and will be removed in version 3.0. Compile and use a Stan program in separate steps.\n",
      "INFO:pystan:COMPILING THE C++ CODE FOR MODEL anon_model_f9f66a9bb30d74a121426fec649a53d3 NOW.\n"
     ]
    }
   ],
   "source": [
    "# Run mcmc \n",
    "fit = pystan.stan(model_code=stan_code, data=data, iter=15000, chains=3, \n",
    "                warmup=5000, thin=10, n_jobs=3) \n"
   ]
  },
  {
   "cell_type": "code",
   "execution_count": 19,
   "metadata": {},
   "outputs": [
    {
     "name": "stdout",
     "output_type": "stream",
     "text": [
      "Inference for Stan model: anon_model_f9f66a9bb30d74a121426fec649a53d3.\n",
      "3 chains, each with iter=15000; warmup=5000; thin=10; \n",
      "post-warmup draws per chain=1000, total post-warmup draws=3000.\n",
      "\n",
      "          mean se_mean     sd   2.5%    25%    50%    75%  97.5%  n_eff   Rhat\n",
      "alpha     8.35  9.9e-4   0.06   8.24   8.31   8.35   8.39   8.46   3137    1.0\n",
      "beta      4.46  6.2e-3   0.33    3.8   4.25   4.45   4.69   5.12   2837    1.0\n",
      "epsilon   0.27  1.1e-3   0.06   0.16   0.23   0.27   0.31    0.4   2796    1.0\n"
     ]
    }
   ],
   "source": [
    "nlines = 8\n",
    "\n",
    "output = str(fit).split('\\n') \n",
    "for item in output[:nlines]: \n",
    "    print(item)"
   ]
  },
  {
   "cell_type": "code",
   "execution_count": 20,
   "metadata": {},
   "outputs": [],
   "source": [
    "dataframe_fit = fit.to_dataframe()"
   ]
  },
  {
   "cell_type": "code",
   "execution_count": 21,
   "metadata": {},
   "outputs": [
    {
     "data": {
      "text/plain": [
       "Index(['chain', 'draw', 'warmup', 'alpha', 'beta', 'epsilon', 'x[1]', 'x[2]',\n",
       "       'x[3]', 'x[4]',\n",
       "       ...\n",
       "       'y[44]', 'y[45]', 'y[46]', 'lp__', 'accept_stat__', 'stepsize__',\n",
       "       'treedepth__', 'n_leapfrog__', 'divergent__', 'energy__'],\n",
       "      dtype='object', length=105)"
      ]
     },
     "execution_count": 21,
     "metadata": {},
     "output_type": "execute_result"
    }
   ],
   "source": [
    "dataframe_fit.keys()"
   ]
  },
  {
   "cell_type": "code",
   "execution_count": 26,
   "metadata": {},
   "outputs": [
    {
     "data": {
      "image/png": "[encoded data removed]",
      "text/plain": [
       "<Figure size 1080x216 with 2 Axes>"
      ]
     },
     "metadata": {
      "needs_background": "light"
     },
     "output_type": "display_data"
    }
   ],
   "source": [
    "import matplotlib.pyplot as plt\n",
    "import seaborn as sns\n",
    "\n",
    "chain_idx = dataframe_fit['chain']\n",
    "beta11 = dataframe_fit['beta']\n",
    "\n",
    "plt.subplots(figsize=(15,3))\n",
    "plt.subplot(1,4,1)\n",
    "sns.kdeplot(beta11)\n",
    "plt.subplot(1,4,2)\n",
    "plt.plot(chain_idx, beta11)\n",
    "\n",
    "\n",
    "plt.tight_layout()\n",
    "plt.show()"
   ]
  },
  {
   "cell_type": "code",
   "execution_count": null,
   "metadata": {},
   "outputs": [],
   "source": []
  },
  {
   "cell_type": "code",
   "execution_count": null,
   "metadata": {},
   "outputs": [],
   "source": []
  },
  {
   "cell_type": "code",
   "execution_count": null,
   "metadata": {},
   "outputs": [],
   "source": []
  },
  {
   "cell_type": "code",
   "execution_count": null,
   "metadata": {},
   "outputs": [],
   "source": []
  },
  {
   "cell_type": "code",
   "execution_count": null,
   "metadata": {},
   "outputs": [],
   "source": []
  },
  {
   "cell_type": "code",
   "execution_count": null,
   "metadata": {},
   "outputs": [],
   "source": []
  },
  {
   "cell_type": "code",
   "execution_count": null,
   "metadata": {},
   "outputs": [],
   "source": []
  }
 ],
 "metadata": {
  "kernelspec": {
   "display_name": "Python 3",
   "language": "python",
   "name": "python3"
  },
  "language_info": {
   "codemirror_mode": {
    "name": "ipython",
    "version": 3
   },
   "file_extension": ".py",
   "mimetype": "text/x-python",
   "name": "python",
   "nbconvert_exporter": "python",
   "pygments_lexer": "ipython3",
   "version": "3.7.7"
  }
 },
 "nbformat": 4,
 "nbformat_minor": 4
}
